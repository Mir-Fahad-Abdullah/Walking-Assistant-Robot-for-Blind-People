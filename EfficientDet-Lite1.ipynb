{
 "cells": [
  {
   "cell_type": "markdown",
   "id": "29bedd27-9dfa-4a39-854b-59824ffc4cd8",
   "metadata": {},
   "source": [
    "# Importing Libraries"
   ]
  },
  {
   "cell_type": "code",
   "execution_count": 1,
   "id": "ba4e4041-d1ae-49d5-8e80-dfaaa56c76f3",
   "metadata": {},
   "outputs": [
    {
     "name": "stderr",
     "output_type": "stream",
     "text": [
      "C:\\Users\\fahad\\AppData\\Local\\Programs\\Python\\Python39\\lib\\site-packages\\tensorflow_addons\\utils\\tfa_eol_msg.py:23: UserWarning: \n",
      "\n",
      "TensorFlow Addons (TFA) has ended development and introduction of new features.\n",
      "TFA has entered a minimal maintenance and release mode until a planned end of life in May 2024.\n",
      "Please modify downstream libraries to take dependencies from other repositories in our TensorFlow community (e.g. Keras, Keras-CV, and Keras-NLP). \n",
      "\n",
      "For more information see: https://github.com/tensorflow/addons/issues/2807 \n",
      "\n",
      "  warnings.warn(\n",
      "C:\\Users\\fahad\\AppData\\Local\\Programs\\Python\\Python39\\lib\\site-packages\\tensorflow_addons\\utils\\ensure_tf_install.py:53: UserWarning: Tensorflow Addons supports using Python ops for all Tensorflow versions above or equal to 2.12.0 and strictly below 2.15.0 (nightly versions are not supported). \n",
      " The versions of TensorFlow you are currently using is 2.8.0 and is not supported. \n",
      "Some things might work, some things might not.\n",
      "If you were to encounter a bug, do not file an issue.\n",
      "If you want to make sure you're using a tested and supported configuration, either change the TensorFlow version or the TensorFlow Addons's version. \n",
      "You can find the compatibility matrix in TensorFlow Addon's readme:\n",
      "https://github.com/tensorflow/addons\n",
      "  warnings.warn(\n",
      "C:\\Users\\fahad\\AppData\\Local\\Programs\\Python\\Python39\\lib\\site-packages\\tqdm\\auto.py:21: TqdmWarning: IProgress not found. Please update jupyter and ipywidgets. See https://ipywidgets.readthedocs.io/en/stable/user_install.html\n",
      "  from .autonotebook import tqdm as notebook_tqdm\n"
     ]
    }
   ],
   "source": [
    "import numpy as np\n",
    "import os\n",
    "import tensorflow as tf\n",
    "import xml.etree.ElementTree as ET\n",
    "import matplotlib.pyplot as plt\n",
    "\n",
    "from tensorflow.keras.optimizers import Adam\n",
    "from tensorflow.keras.optimizers.schedules import ExponentialDecay\n",
    "from tensorflow.keras.callbacks import EarlyStopping, ReduceLROnPlateau\n",
    "from tensorflow.keras.utils import plot_model\n",
    "from absl import logging\n",
    "import shutil\n",
    "\n",
    "from tflite_model_maker import object_detector\n",
    "from tflite_model_maker.object_detector import DataLoader\n",
    "from tflite_model_maker.config import ExportFormat\n",
    "from tflite_model_maker import model_spec"
   ]
  },
  {
   "cell_type": "markdown",
   "id": "4cb510ff-7e6d-40f1-89d1-89a206c26485",
   "metadata": {},
   "source": [
    "# Setting Up for TensorFlow 2.0"
   ]
  },
  {
   "cell_type": "code",
   "execution_count": 2,
   "id": "7cd7889e-60d8-4c83-8711-5686af463fba",
   "metadata": {},
   "outputs": [],
   "source": [
    "assert tf.__version__.startswith('2')\n",
    "\n",
    "# Suppress TensorFlow and absl logs for cleaner output\n",
    "tf.get_logger().setLevel('ERROR')\n",
    "logging.set_verbosity(logging.ERROR)"
   ]
  },
  {
   "cell_type": "markdown",
   "id": "91dbdad7-25d8-45c3-a473-a2eb62c17923",
   "metadata": {},
   "source": [
    "# Dataset Preprocessing and Augmentation"
   ]
  },
  {
   "cell_type": "markdown",
   "id": "8e82dd74-fea9-4168-986a-346e7bc4b40a",
   "metadata": {},
   "source": [
    "### Directory paths"
   ]
  },
  {
   "cell_type": "code",
   "execution_count": 3,
   "id": "5065e7de-fab6-46ac-a217-6eb091b2a2bb",
   "metadata": {},
   "outputs": [],
   "source": [
    "base_dir = r'Object-detection-dataset'\n",
    "train_dir = 'Object-detection-dataset/train'\n",
    "valid_dir = 'Object-detection-dataset/valid'"
   ]
  },
  {
   "cell_type": "markdown",
   "id": "57f1b43b-864b-4057-b7e0-52f59a24f4bb",
   "metadata": {},
   "source": [
    "### Extracting Label Map"
   ]
  },
  {
   "cell_type": "code",
   "execution_count": 4,
   "id": "d481960b-0242-4fb6-8b10-7fd2215a49d5",
   "metadata": {},
   "outputs": [
    {
     "name": "stdout",
     "output_type": "stream",
     "text": [
      "Labels used in your annotations:\n",
      "Tom Tom\n",
      "aeroplane\n",
      "apple\n",
      "backpack\n",
      "banana\n",
      "baseball bat\n",
      "baseball glove\n",
      "bear\n",
      "bed\n",
      "bench\n",
      "bicycle\n",
      "bin\n",
      "bird\n",
      "boat\n",
      "book\n",
      "bottle\n",
      "bowl\n",
      "broccoli\n",
      "bus\n",
      "cake\n",
      "car\n",
      "cat\n",
      "cell phone\n",
      "chair\n",
      "clock\n",
      "cng\n",
      "cow\n",
      "cup\n",
      "diningtable\n",
      "dog\n",
      "donut\n",
      "door\n",
      "elephant\n",
      "fire hydrant\n",
      "fork\n",
      "frisbee\n",
      "giraffe\n",
      "glass partition\n",
      "handbag\n",
      "horse\n",
      "hot dog\n",
      "keyboard\n",
      "kite\n",
      "knife\n",
      "laptop\n",
      "microwave\n",
      "motorbike\n",
      "motorcycle\n",
      "mouse\n",
      "orange\n",
      "oven\n",
      "parking meter\n",
      "person\n",
      "pillar\n",
      "pizza\n",
      "pottedplant\n",
      "railing\n",
      "refrigerator\n",
      "remote\n",
      "rickshaw\n",
      "sandwich\n",
      "scissors\n",
      "sheep\n",
      "shelf\n",
      "sink\n",
      "skateboard\n",
      "skis\n",
      "snowboard\n",
      "sofa\n",
      "spoon\n",
      "sports ball\n",
      "stair\n",
      "stop sign\n",
      "suitcase\n",
      "surfboard\n",
      "table\n",
      "teddy bear\n",
      "tempu\n",
      "tennis racket\n",
      "tie\n",
      "toilet\n",
      "traffic light\n",
      "train\n",
      "tree\n",
      "truck\n",
      "tvmonitor\n",
      "umbrella\n",
      "van\n",
      "vase\n",
      "wine glass\n",
      "zebra\n"
     ]
    }
   ],
   "source": [
    "# Extract labels from XML files\n",
    "def extract_labels(directory):\n",
    "    labels = set()\n",
    "    for filename in os.listdir(directory):\n",
    "        if filename.endswith(\".xml\"):\n",
    "            tree = ET.parse(os.path.join(directory, filename))\n",
    "            root = tree.getroot()\n",
    "            for obj in root.findall('object'):\n",
    "                labels.add(obj.find('name').text)\n",
    "    return labels\n",
    "\n",
    "# Extract and merge all labels\n",
    "train_labels = extract_labels(train_dir)\n",
    "valid_labels = extract_labels(valid_dir)\n",
    "all_labels = sorted(train_labels.union(valid_labels))\n",
    "\n",
    "# Convert to the required label_map\n",
    "label_map = {i + 1: name for i, name in enumerate(all_labels)}\n",
    "\n",
    "# Display the labels\n",
    "print(\"Labels used in your annotations:\")\n",
    "for label in all_labels:\n",
    "    print(label)"
   ]
  },
  {
   "cell_type": "markdown",
   "id": "0d326b9d-5ed2-4fae-b820-3bb11a5a322d",
   "metadata": {},
   "source": [
    "### Data Augmentation"
   ]
  },
  {
   "cell_type": "code",
   "execution_count": 5,
   "id": "bec82316-9d6b-4b3b-8d73-bde8a63d2ffe",
   "metadata": {},
   "outputs": [],
   "source": [
    "def augment_image(image, bbox):\n",
    "    image = tf.image.random_flip_left_right(image)\n",
    "    image = tf.image.random_brightness(image, max_delta=0.1)\n",
    "    image = tf.image.random_contrast(image, 0.9, 1.1)\n",
    "    return image, bbox"
   ]
  },
  {
   "cell_type": "markdown",
   "id": "d4d7e270-68de-44d3-bbc4-539650a930a0",
   "metadata": {},
   "source": [
    "### Apply and Save Augmented Images"
   ]
  },
  {
   "cell_type": "code",
   "execution_count": 6,
   "id": "292327e4-7e85-43bd-95af-44099ec9ee3c",
   "metadata": {},
   "outputs": [],
   "source": [
    "aug_dir = os.path.join(base_dir, 'train_augmented')\n",
    "os.makedirs(aug_dir, exist_ok=True)\n",
    "\n",
    "for file in os.listdir(train_dir):\n",
    "    if file.endswith('.jpg') or file.endswith('.png'):\n",
    "        base_name = os.path.splitext(file)[0]\n",
    "        img_path = os.path.join(train_dir, file)\n",
    "        xml_path = os.path.join(train_dir, base_name + '.xml')\n",
    "\n",
    "        if not os.path.exists(xml_path):\n",
    "            continue  # Skip if annotation missing\n",
    "\n",
    "        # Load and augment image\n",
    "        image = tf.io.read_file(img_path)\n",
    "        image = tf.image.decode_jpeg(image, channels = 3)\n",
    "        image = tf.image.resize(image, (384, 384))\n",
    "        image = tf.cast(image, tf.uint8)\n",
    "\n",
    "        aug_image, _ = augment_image(image, None)\n",
    "        aug_image = tf.image.encode_jpeg(tf.cast(aug_image, tf.uint8))\n",
    "\n",
    "        # Save augmented image\n",
    "        aug_img_name = base_name + '_aug.jpg'\n",
    "        aug_img_path = os.path.join(aug_dir, aug_img_name)\n",
    "        tf.io.write_file(aug_img_path, aug_image)\n",
    "\n",
    "        # Copy original XML with new name\n",
    "        aug_xml_name = base_name + '_aug.xml'\n",
    "        shutil.copy(xml_path, os.path.join(aug_dir, aug_xml_name))"
   ]
  },
  {
   "cell_type": "markdown",
   "id": "7b8edf0e-f0a5-4f1a-8e8b-1aaaca06f247",
   "metadata": {},
   "source": [
    "### Merge Original and Augmented Training Data"
   ]
  },
  {
   "cell_type": "code",
   "execution_count": 7,
   "id": "130217f0-9175-49d7-a2ab-0b8959583179",
   "metadata": {},
   "outputs": [],
   "source": [
    "train_combined_dir = os.path.join(base_dir, 'train_combined')\n",
    "os.makedirs(train_combined_dir, exist_ok = True)\n",
    "\n",
    "for src_dir in [train_dir, aug_dir]:\n",
    "    for f in os.listdir(src_dir):\n",
    "        shutil.copy(os.path.join(src_dir, f), os.path.join(train_combined_dir, f))"
   ]
  },
  {
   "cell_type": "markdown",
   "id": "ea82bd82-0bd9-479f-9556-246ec4e20b7c",
   "metadata": {},
   "source": [
    "### Load Dataset with Augmented Data"
   ]
  },
  {
   "cell_type": "code",
   "execution_count": 8,
   "id": "43a89321-a041-4289-a5f5-c3bfb23a2524",
   "metadata": {},
   "outputs": [],
   "source": [
    "train_data = object_detector.DataLoader.from_pascal_voc(\n",
    "    train_combined_dir,\n",
    "    train_combined_dir,\n",
    "    label_map\n",
    ")\n",
    "\n",
    "val_data = object_detector.DataLoader.from_pascal_voc(\n",
    "    valid_dir,\n",
    "    valid_dir,\n",
    "    label_map\n",
    ")"
   ]
  },
  {
   "cell_type": "markdown",
   "id": "4b34d95a-18f8-4dc7-98a0-5e5af039f0e2",
   "metadata": {},
   "source": [
    "# Initialize EfficientDet-Lite1 Pretrained Model"
   ]
  },
  {
   "cell_type": "code",
   "execution_count": 9,
   "id": "7fc54268-8f22-47f6-b126-3353da5a5b16",
   "metadata": {},
   "outputs": [],
   "source": [
    "spec = model_spec.get(\"efficientdet_lite1\")\n",
    "\n",
    "initial_learning_rate = 0.001\n",
    "lr_schedule = ExponentialDecay(\n",
    "    initial_learning_rate,\n",
    "    decay_steps=1000,\n",
    "    decay_rate=0.9,\n",
    "    staircase=True\n",
    ")\n",
    "\n",
    "spec.optimizer = Adam(learning_rate=lr_schedule)"
   ]
  },
  {
   "cell_type": "markdown",
   "id": "031c2a89-746c-4411-be71-5e6177524922",
   "metadata": {},
   "source": [
    "# Model Training"
   ]
  },
  {
   "cell_type": "markdown",
   "id": "eab51d12-d9d2-4685-b781-5ee81d464a31",
   "metadata": {},
   "source": [
    "### Training Configuration"
   ]
  },
  {
   "cell_type": "code",
   "execution_count": 10,
   "id": "a82a399a-84c1-42bd-9e9d-41e1e602adf6",
   "metadata": {},
   "outputs": [],
   "source": [
    "IMAGE_SIZE = (384, 384)\n",
    "BATCH_SIZE = 8\n",
    "EPOCH_SIZE = 25"
   ]
  },
  {
   "cell_type": "markdown",
   "id": "1e26444a-5265-42b3-9343-2bb45e286325",
   "metadata": {},
   "source": [
    "### Training"
   ]
  },
  {
   "cell_type": "code",
   "execution_count": 11,
   "id": "13c3fae1-b58e-41ce-9e7d-027d11b9352e",
   "metadata": {},
   "outputs": [
    {
     "name": "stdout",
     "output_type": "stream",
     "text": [
      "Epoch 1/25\n",
      "102/102 [==============================] - 266s 2s/step - det_loss: 1.9089 - cls_loss: 1.3417 - box_loss: 0.0113 - reg_l2_loss: 0.0204 - loss: 1.9294 - learning_rate: 0.0090 - gradient_norm: 0.6355 - val_det_loss: 1.5682 - val_cls_loss: 1.1858 - val_box_loss: 0.0076 - val_reg_l2_loss: 0.0205 - val_loss: 1.5886\n",
      "Epoch 2/25\n",
      "102/102 [==============================] - 259s 3s/step - det_loss: 1.5331 - cls_loss: 1.1376 - box_loss: 0.0079 - reg_l2_loss: 0.0205 - loss: 1.5536 - learning_rate: 0.0099 - gradient_norm: 0.8253 - val_det_loss: 1.4228 - val_cls_loss: 1.0782 - val_box_loss: 0.0069 - val_reg_l2_loss: 0.0205 - val_loss: 1.4433\n",
      "Epoch 3/25\n",
      "102/102 [==============================] - 265s 3s/step - det_loss: 1.4120 - cls_loss: 1.0603 - box_loss: 0.0070 - reg_l2_loss: 0.0205 - loss: 1.4325 - learning_rate: 0.0097 - gradient_norm: 0.8494 - val_det_loss: 1.3763 - val_cls_loss: 1.0235 - val_box_loss: 0.0071 - val_reg_l2_loss: 0.0205 - val_loss: 1.3968\n",
      "Epoch 4/25\n",
      "102/102 [==============================] - 256s 3s/step - det_loss: 1.3526 - cls_loss: 1.0140 - box_loss: 0.0068 - reg_l2_loss: 0.0205 - loss: 1.3731 - learning_rate: 0.0095 - gradient_norm: 0.9172 - val_det_loss: 1.2739 - val_cls_loss: 0.9745 - val_box_loss: 0.0060 - val_reg_l2_loss: 0.0205 - val_loss: 1.2944\n",
      "Epoch 5/25\n",
      "102/102 [==============================] - 274s 3s/step - det_loss: 1.2812 - cls_loss: 0.9544 - box_loss: 0.0065 - reg_l2_loss: 0.0205 - loss: 1.3017 - learning_rate: 0.0092 - gradient_norm: 0.9183 - val_det_loss: 1.2250 - val_cls_loss: 0.9192 - val_box_loss: 0.0061 - val_reg_l2_loss: 0.0205 - val_loss: 1.2455\n",
      "Epoch 6/25\n",
      "102/102 [==============================] - 253s 2s/step - det_loss: 1.2237 - cls_loss: 0.9019 - box_loss: 0.0064 - reg_l2_loss: 0.0205 - loss: 1.2442 - learning_rate: 0.0088 - gradient_norm: 0.8995 - val_det_loss: 1.1856 - val_cls_loss: 0.8837 - val_box_loss: 0.0060 - val_reg_l2_loss: 0.0205 - val_loss: 1.2061\n",
      "Epoch 7/25\n",
      "102/102 [==============================] - 250s 2s/step - det_loss: 1.1572 - cls_loss: 0.8410 - box_loss: 0.0063 - reg_l2_loss: 0.0205 - loss: 1.1778 - learning_rate: 0.0083 - gradient_norm: 0.9230 - val_det_loss: 1.1253 - val_cls_loss: 0.8290 - val_box_loss: 0.0059 - val_reg_l2_loss: 0.0206 - val_loss: 1.1458\n",
      "Epoch 8/25\n",
      "102/102 [==============================] - 248s 2s/step - det_loss: 1.0869 - cls_loss: 0.7777 - box_loss: 0.0062 - reg_l2_loss: 0.0206 - loss: 1.1075 - learning_rate: 0.0078 - gradient_norm: 0.9529 - val_det_loss: 1.0911 - val_cls_loss: 0.7994 - val_box_loss: 0.0058 - val_reg_l2_loss: 0.0206 - val_loss: 1.1117\n",
      "Epoch 9/25\n",
      "102/102 [==============================] - 247s 2s/step - det_loss: 1.0408 - cls_loss: 0.7343 - box_loss: 0.0061 - reg_l2_loss: 0.0206 - loss: 1.0614 - learning_rate: 0.0072 - gradient_norm: 0.9775 - val_det_loss: 1.0681 - val_cls_loss: 0.7775 - val_box_loss: 0.0058 - val_reg_l2_loss: 0.0206 - val_loss: 1.0887\n",
      "Epoch 10/25\n",
      "102/102 [==============================] - 261s 3s/step - det_loss: 1.0192 - cls_loss: 0.7164 - box_loss: 0.0061 - reg_l2_loss: 0.0206 - loss: 1.0399 - learning_rate: 0.0066 - gradient_norm: 0.9943 - val_det_loss: 1.0480 - val_cls_loss: 0.7553 - val_box_loss: 0.0059 - val_reg_l2_loss: 0.0206 - val_loss: 1.0686\n",
      "Epoch 11/25\n",
      "102/102 [==============================] - 248s 2s/step - det_loss: 0.9893 - cls_loss: 0.6790 - box_loss: 0.0062 - reg_l2_loss: 0.0206 - loss: 1.0099 - learning_rate: 0.0060 - gradient_norm: 0.9880 - val_det_loss: 1.0384 - val_cls_loss: 0.7558 - val_box_loss: 0.0057 - val_reg_l2_loss: 0.0207 - val_loss: 1.0591\n",
      "Epoch 12/25\n",
      "102/102 [==============================] - 245s 2s/step - det_loss: 0.9760 - cls_loss: 0.6704 - box_loss: 0.0061 - reg_l2_loss: 0.0207 - loss: 0.9967 - learning_rate: 0.0053 - gradient_norm: 1.0060 - val_det_loss: 1.0223 - val_cls_loss: 0.7437 - val_box_loss: 0.0056 - val_reg_l2_loss: 0.0207 - val_loss: 1.0429\n",
      "Epoch 13/25\n",
      "102/102 [==============================] - 246s 2s/step - det_loss: 0.9375 - cls_loss: 0.6450 - box_loss: 0.0058 - reg_l2_loss: 0.0207 - loss: 0.9581 - learning_rate: 0.0047 - gradient_norm: 0.9987 - val_det_loss: 1.0098 - val_cls_loss: 0.7365 - val_box_loss: 0.0055 - val_reg_l2_loss: 0.0207 - val_loss: 1.0305\n",
      "Epoch 14/25\n",
      "102/102 [==============================] - 250s 2s/step - det_loss: 0.9326 - cls_loss: 0.6362 - box_loss: 0.0059 - reg_l2_loss: 0.0207 - loss: 0.9533 - learning_rate: 0.0040 - gradient_norm: 0.9628 - val_det_loss: 1.0205 - val_cls_loss: 0.7455 - val_box_loss: 0.0055 - val_reg_l2_loss: 0.0207 - val_loss: 1.0412\n",
      "Epoch 15/25\n",
      "102/102 [==============================] - 260s 3s/step - det_loss: 0.9288 - cls_loss: 0.6269 - box_loss: 0.0060 - reg_l2_loss: 0.0207 - loss: 0.9495 - learning_rate: 0.0034 - gradient_norm: 0.9873 - val_det_loss: 1.0078 - val_cls_loss: 0.7319 - val_box_loss: 0.0055 - val_reg_l2_loss: 0.0207 - val_loss: 1.0285\n",
      "Epoch 16/25\n",
      "102/102 [==============================] - 242s 2s/step - det_loss: 0.9119 - cls_loss: 0.6201 - box_loss: 0.0058 - reg_l2_loss: 0.0207 - loss: 0.9326 - learning_rate: 0.0028 - gradient_norm: 0.9522 - val_det_loss: 1.0061 - val_cls_loss: 0.7335 - val_box_loss: 0.0055 - val_reg_l2_loss: 0.0207 - val_loss: 1.0268\n",
      "Epoch 17/25\n",
      "102/102 [==============================] - 247s 2s/step - det_loss: 0.9014 - cls_loss: 0.6121 - box_loss: 0.0058 - reg_l2_loss: 0.0207 - loss: 0.9221 - learning_rate: 0.0022 - gradient_norm: 0.9719 - val_det_loss: 1.0080 - val_cls_loss: 0.7318 - val_box_loss: 0.0055 - val_reg_l2_loss: 0.0207 - val_loss: 1.0287\n",
      "Epoch 18/25\n",
      "102/102 [==============================] - 247s 2s/step - det_loss: 0.8952 - cls_loss: 0.6054 - box_loss: 0.0058 - reg_l2_loss: 0.0207 - loss: 0.9159 - learning_rate: 0.0017 - gradient_norm: 0.9719 - val_det_loss: 1.0067 - val_cls_loss: 0.7317 - val_box_loss: 0.0055 - val_reg_l2_loss: 0.0207 - val_loss: 1.0275\n",
      "Epoch 19/25\n",
      "102/102 [==============================] - 244s 2s/step - det_loss: 0.9018 - cls_loss: 0.6062 - box_loss: 0.0059 - reg_l2_loss: 0.0207 - loss: 0.9225 - learning_rate: 0.0012 - gradient_norm: 0.9646 - val_det_loss: 1.0117 - val_cls_loss: 0.7314 - val_box_loss: 0.0056 - val_reg_l2_loss: 0.0207 - val_loss: 1.0324\n",
      "Epoch 20/25\n",
      "102/102 [==============================] - 261s 3s/step - det_loss: 0.9017 - cls_loss: 0.6085 - box_loss: 0.0059 - reg_l2_loss: 0.0207 - loss: 0.9224 - learning_rate: 8.4571e-04 - gradient_norm: 0.9895 - val_det_loss: 1.0095 - val_cls_loss: 0.7318 - val_box_loss: 0.0056 - val_reg_l2_loss: 0.0207 - val_loss: 1.0302\n",
      "Epoch 21/25\n",
      "102/102 [==============================] - 241s 2s/step - det_loss: 0.8954 - cls_loss: 0.6043 - box_loss: 0.0058 - reg_l2_loss: 0.0207 - loss: 0.9161 - learning_rate: 5.1892e-04 - gradient_norm: 0.9448 - val_det_loss: 1.0075 - val_cls_loss: 0.7299 - val_box_loss: 0.0056 - val_reg_l2_loss: 0.0207 - val_loss: 1.0282\n",
      "Epoch 22/25\n",
      "102/102 [==============================] - 249s 2s/step - det_loss: 0.8973 - cls_loss: 0.6056 - box_loss: 0.0058 - reg_l2_loss: 0.0207 - loss: 0.9180 - learning_rate: 2.6881e-04 - gradient_norm: 0.9750 - val_det_loss: 1.0089 - val_cls_loss: 0.7310 - val_box_loss: 0.0056 - val_reg_l2_loss: 0.0207 - val_loss: 1.0296\n",
      "Epoch 23/25\n",
      "102/102 [==============================] - 243s 2s/step - det_loss: 0.8938 - cls_loss: 0.6022 - box_loss: 0.0058 - reg_l2_loss: 0.0207 - loss: 0.9145 - learning_rate: 9.9651e-05 - gradient_norm: 0.9497 - val_det_loss: 1.0083 - val_cls_loss: 0.7301 - val_box_loss: 0.0056 - val_reg_l2_loss: 0.0207 - val_loss: 1.0290\n",
      "Epoch 24/25\n",
      "102/102 [==============================] - 246s 2s/step - det_loss: 0.8892 - cls_loss: 0.6011 - box_loss: 0.0058 - reg_l2_loss: 0.0207 - loss: 0.9099 - learning_rate: 1.4337e-05 - gradient_norm: 0.9304 - val_det_loss: 1.0079 - val_cls_loss: 0.7297 - val_box_loss: 0.0056 - val_reg_l2_loss: 0.0207 - val_loss: 1.0287\n",
      "Epoch 25/25\n",
      "102/102 [==============================] - 265s 3s/step - det_loss: 0.8932 - cls_loss: 0.6032 - box_loss: 0.0058 - reg_l2_loss: 0.0207 - loss: 0.9139 - learning_rate: 1.4328e-05 - gradient_norm: 0.9551 - val_det_loss: 1.0084 - val_cls_loss: 0.7306 - val_box_loss: 0.0056 - val_reg_l2_loss: 0.0207 - val_loss: 1.0291\n"
     ]
    }
   ],
   "source": [
    "model = object_detector.create(\n",
    "    train_data,\n",
    "    model_spec=spec,\n",
    "    batch_size=BATCH_SIZE,\n",
    "    train_whole_model=False,  # Freeze backbone, train only detection head\n",
    "    validation_data=val_data,\n",
    "    epochs=EPOCH_SIZE,\n",
    "    do_train=True,\n",
    ")"
   ]
  },
  {
   "cell_type": "markdown",
   "id": "5b2c7b76-4a28-401b-a27a-026c9f3ee5b9",
   "metadata": {},
   "source": [
    "### Save the Trained Model"
   ]
  },
  {
   "cell_type": "code",
   "execution_count": 12,
   "id": "8cb4de05-3a4e-4248-9b35-8326f38e3229",
   "metadata": {},
   "outputs": [],
   "source": [
    "model.model.optimizer.learning_rate = tf.constant(0.0001)\n",
    "model.model.save('efficientdet_lite1_saved_model')"
   ]
  },
  {
   "cell_type": "markdown",
   "id": "f106caa8-565a-437d-9a41-86a9f237cd74",
   "metadata": {},
   "source": [
    "# Model Summary and Plot"
   ]
  },
  {
   "cell_type": "code",
   "execution_count": 13,
   "id": "4a23383c-fd7c-4183-b0ae-17211355ff80",
   "metadata": {},
   "outputs": [
    {
     "name": "stdout",
     "output_type": "stream",
     "text": [
      "Model: \"\"\n",
      "_________________________________________________________________\n",
      " Layer (type)                Output Shape              Param #   \n",
      "=================================================================\n",
      " keras_layer (KerasLayer)    multiple                  4234512   \n",
      "                                                                 \n",
      " class_net/class-predict (Se  multiple                 73683     \n",
      " parableConv2D)                                                  \n",
      "                                                                 \n",
      " box_net/box-predict (Separa  multiple                 3996      \n",
      " bleConv2D)                                                      \n",
      "                                                                 \n",
      "=================================================================\n",
      "Total params: 4,312,191\n",
      "Trainable params: 4,249,119\n",
      "Non-trainable params: 63,072\n",
      "_________________________________________________________________\n"
     ]
    },
    {
     "data": {
      "image/png": "[encoded data removed]",
      "text/plain": [
       "<IPython.core.display.Image object>"
      ]
     },
     "execution_count": 13,
     "metadata": {},
     "output_type": "execute_result"
    }
   ],
   "source": [
    "model.model.summary()\n",
    "plot_model(model.model, show_shapes=True, show_layer_names=True, dpi=96)"
   ]
  },
  {
   "cell_type": "markdown",
   "id": "5777edb4-c94f-48ba-abf6-9c703ca7f569",
   "metadata": {},
   "source": [
    "# Learning Curve"
   ]
  },
  {
   "cell_type": "code",
   "execution_count": 14,
   "id": "9ad99f91-44bd-43d0-b22d-64039847729f",
   "metadata": {},
   "outputs": [
    {
     "data": {
      "image/png": "[encoded data removed]",
      "text/plain": [
       "<Figure size 1000x500 with 1 Axes>"
      ]
     },
     "metadata": {},
     "output_type": "display_data"
    }
   ],
   "source": [
    "history = model.model.history\n",
    "\n",
    "if history and hasattr(history, 'history'):\n",
    "    plt.figure(figsize = (10, 5))\n",
    "    for key, values in history.history.items():\n",
    "        plt.plot(values, label=key)\n",
    "    plt.title('Learning Curves')\n",
    "    plt.xlabel('Epochs')\n",
    "    plt.ylabel('Metric')\n",
    "    plt.legend()\n",
    "    plt.grid(True)\n",
    "    plt.show()"
   ]
  },
  {
   "cell_type": "markdown",
   "id": "cc4ce60d-d499-4ccb-a4fa-8b32ff1424b6",
   "metadata": {},
   "source": [
    "### Model Evaluation"
   ]
  },
  {
   "cell_type": "code",
   "execution_count": 15,
   "id": "b1853c3b-6b86-481a-94d3-31125b3583d4",
   "metadata": {
    "scrolled": true
   },
   "outputs": [
    {
     "name": "stdout",
     "output_type": "stream",
     "text": [
      "2/2 [==============================] - 182s 60s/step\n",
      "\n",
      "\n",
      "Evaluation Metrics:\n",
      "AP: 0.1189\n",
      "AP50: 0.1935\n",
      "AP75: 0.1268\n",
      "APs: 0.0122\n",
      "APm: 0.1213\n",
      "APl: 0.2102\n",
      "ARmax1: 0.1455\n",
      "ARmax10: 0.2044\n",
      "ARmax100: 0.2086\n",
      "ARs: 0.0185\n",
      "ARm: 0.2008\n",
      "ARl: 0.3460\n",
      "AP_/Tom Tom: -1.0000\n",
      "AP_/aeroplane: 0.1442\n",
      "AP_/apple: -1.0000\n",
      "AP_/backpack: 0.0062\n",
      "AP_/banana: -1.0000\n",
      "AP_/baseball bat: 0.0000\n",
      "AP_/baseball glove: 0.0000\n",
      "AP_/bear: -1.0000\n",
      "AP_/bed: -1.0000\n",
      "AP_/bench: 0.1509\n",
      "AP_/bicycle: 0.0837\n",
      "AP_/bin: 0.0000\n",
      "AP_/bird: 0.0081\n",
      "AP_/boat: 0.0000\n",
      "AP_/book: 0.0205\n",
      "AP_/bottle: 0.1767\n",
      "AP_/bowl: 0.0000\n",
      "AP_/broccoli: -1.0000\n",
      "AP_/bus: 0.3696\n",
      "AP_/cake: 0.0000\n",
      "AP_/car: 0.2163\n",
      "AP_/cat: 0.0131\n",
      "AP_/cell phone: 0.0000\n",
      "AP_/chair: 0.0903\n",
      "AP_/clock: 0.0000\n",
      "AP_/cng: 0.0621\n",
      "AP_/cow: 0.1941\n",
      "AP_/cup: 0.1199\n",
      "AP_/diningtable: 0.1092\n",
      "AP_/dog: 0.1612\n",
      "AP_/donut: -1.0000\n",
      "AP_/door: -1.0000\n",
      "AP_/elephant: 0.7398\n",
      "AP_/fire hydrant: 0.0000\n",
      "AP_/fork: 0.0000\n",
      "AP_/frisbee: 0.4667\n",
      "AP_/giraffe: -1.0000\n",
      "AP_/glass partition: -1.0000\n",
      "AP_/handbag: 0.0034\n",
      "AP_/horse: 0.4156\n",
      "AP_/hot dog: -1.0000\n",
      "AP_/keyboard: -1.0000\n",
      "AP_/kite: 0.1178\n",
      "AP_/knife: 0.0000\n",
      "AP_/laptop: -1.0000\n",
      "AP_/microwave: 0.0000\n",
      "AP_/motorbike: 0.6058\n",
      "AP_/motorcycle: 0.0744\n",
      "AP_/mouse: -1.0000\n",
      "AP_/orange: -1.0000\n",
      "AP_/oven: 0.0000\n",
      "AP_/parking meter: -1.0000\n",
      "AP_/person: 0.3244\n",
      "AP_/pillar: 0.0000\n",
      "AP_/pizza: 0.0033\n",
      "AP_/pottedplant: 0.3535\n",
      "AP_/railing: 0.0000\n",
      "AP_/refrigerator: -1.0000\n",
      "AP_/remote: 0.0000\n",
      "AP_/rickshaw: 0.3268\n",
      "AP_/sandwich: -1.0000\n",
      "AP_/scissors: -1.0000\n",
      "AP_/sheep: 0.0037\n",
      "AP_/shelf: -1.0000\n",
      "AP_/sink: 0.0000\n",
      "AP_/skateboard: 0.0000\n",
      "AP_/skis: 0.0877\n",
      "AP_/snowboard: 0.0000\n",
      "AP_/sofa: 0.1483\n",
      "AP_/spoon: 0.0000\n",
      "AP_/sports ball: 0.0064\n",
      "AP_/stair: 0.0000\n",
      "AP_/stop sign: 0.0000\n",
      "AP_/suitcase: -1.0000\n",
      "AP_/surfboard: 0.0000\n",
      "AP_/table: -1.0000\n",
      "AP_/teddy bear: 0.0000\n",
      "AP_/tempu: -1.0000\n",
      "AP_/tennis racket: 0.1212\n",
      "AP_/tie: -1.0000\n",
      "AP_/toilet: 0.4250\n",
      "AP_/traffic light: 0.0000\n",
      "AP_/train: 0.0700\n",
      "AP_/tree: 0.0010\n",
      "AP_/truck: 0.0904\n",
      "AP_/tvmonitor: 0.5805\n",
      "AP_/umbrella: 0.2130\n",
      "AP_/van: -1.0000\n",
      "AP_/vase: 0.0000\n",
      "AP_/wine glass: -1.0000\n",
      "AP_/zebra: 0.6248\n"
     ]
    }
   ],
   "source": [
    "metrics = model.evaluate(val_data)\n",
    "\n",
    "print(\"\\nEvaluation Metrics:\")\n",
    "for k, v in metrics.items():\n",
    "    print(f\"{k}: {v:.4f}\")"
   ]
  },
  {
   "cell_type": "markdown",
   "id": "42f792b1-4c03-41c6-8645-21d5e315c7f5",
   "metadata": {},
   "source": [
    "# Model Quantization [Export TFLite (int8)]"
   ]
  },
  {
   "cell_type": "code",
   "execution_count": 18,
   "id": "108b2839-a726-40a0-8cb4-71ffe43011cd",
   "metadata": {},
   "outputs": [],
   "source": [
    "from tflite_model_maker.config import QuantizationConfig, ExportFormat\n",
    "\n",
    "# Use DataLoader directly\n",
    "representative_data = train_data\n",
    "\n",
    "quant_config = QuantizationConfig.for_int8(representative_data)\n",
    "\n",
    "# Export the quantized model\n",
    "model.export(\n",
    "    export_dir='.',\n",
    "    export_format=[ExportFormat.TFLITE],\n",
    "    quantization_config=quant_config\n",
    ")\n",
    "\n",
    "# Rename the output file\n",
    "os.rename(\"model.tflite\", \"EfficientDet_Lite1_detector_int8.tflite\")"
   ]
  }
 ],
 "metadata": {
  "kernelspec": {
   "display_name": "Python 3 (ipykernel)",
   "language": "python",
   "name": "python3"
  },
  "language_info": {
   "codemirror_mode": {
    "name": "ipython",
    "version": 3
   },
   "file_extension": ".py",
   "mimetype": "text/x-python",
   "name": "python",
   "nbconvert_exporter": "python",
   "pygments_lexer": "ipython3",
   "version": "3.9.11"
  }
 },
 "nbformat": 4,
 "nbformat_minor": 5
}
