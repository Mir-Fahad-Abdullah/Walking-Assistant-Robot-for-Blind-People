{
 "cells": [
  {
   "cell_type": "code",
   "execution_count": 1,
   "id": "5ba00701-af32-47c1-a6bb-3942b7cbf626",
   "metadata": {},
   "outputs": [
    {
     "name": "stderr",
     "output_type": "stream",
     "text": [
      "100%|██████████████████████████████████████████████████████████████████████████████| 200/200 [00:00<00:00, 1339.59it/s]\n"
     ]
    },
    {
     "name": "stdout",
     "output_type": "stream",
     "text": [
      "COCO JSON saved to Object-detection-dataset/valid/annotations.json\n"
     ]
    }
   ],
   "source": [
    "import os\n",
    "import json\n",
    "import xml.etree.ElementTree as ET\n",
    "from tqdm import tqdm\n",
    "\n",
    "def xml_to_coco(xml_dir, output_json_path, image_prefix=\"\"):\n",
    "    category_set = {}\n",
    "    image_set = set()\n",
    "    categories = []\n",
    "    annotations = []\n",
    "    images = []\n",
    "\n",
    "    ann_id = 1\n",
    "    category_id = 1\n",
    "\n",
    "    for xml_file in tqdm(os.listdir(xml_dir)):\n",
    "        if not xml_file.endswith(\".xml\"):\n",
    "            continue\n",
    "\n",
    "        tree = ET.parse(os.path.join(xml_dir, xml_file))\n",
    "        root = tree.getroot()\n",
    "\n",
    "        filename = root.find(\"filename\").text\n",
    "        width = int(root.find(\"size/width\").text)\n",
    "        height = int(root.find(\"size/height\").text)\n",
    "\n",
    "        if filename in image_set:\n",
    "            continue\n",
    "        image_id = len(images) + 1\n",
    "        image_set.add(filename)\n",
    "        images.append({\n",
    "            \"id\": image_id,\n",
    "            \"file_name\": image_prefix + filename,\n",
    "            \"width\": width,\n",
    "            \"height\": height\n",
    "        })\n",
    "\n",
    "        for obj in root.findall(\"object\"):\n",
    "            label = obj.find(\"name\").text\n",
    "            if label not in category_set:\n",
    "                category_set[label] = category_id\n",
    "                categories.append({\n",
    "                    \"id\": category_id,\n",
    "                    \"name\": label,\n",
    "                    \"supercategory\": \"none\"\n",
    "                })\n",
    "                category_id += 1\n",
    "\n",
    "            bndbox = obj.find(\"bndbox\")\n",
    "            xmin = int(float(bndbox.find(\"xmin\").text))\n",
    "            ymin = int(float(bndbox.find(\"ymin\").text))\n",
    "            xmax = int(float(bndbox.find(\"xmax\").text))\n",
    "            ymax = int(float(bndbox.find(\"ymax\").text))\n",
    "            o_width = xmax - xmin\n",
    "            o_height = ymax - ymin\n",
    "\n",
    "            annotations.append({\n",
    "                \"id\": ann_id,\n",
    "                \"image_id\": image_id,\n",
    "                \"category_id\": category_set[label],\n",
    "                \"bbox\": [xmin, ymin, o_width, o_height],\n",
    "                \"area\": o_width * o_height,\n",
    "                \"iscrowd\": 0\n",
    "            })\n",
    "            ann_id += 1\n",
    "\n",
    "    coco_format = {\n",
    "        \"info\": {\n",
    "            \"description\": \"Validation dataset\",\n",
    "            \"version\": \"1.0\",\n",
    "            \"year\": 2025\n",
    "        },\n",
    "        \"images\": images,\n",
    "        \"annotations\": annotations,\n",
    "        \"categories\": categories\n",
    "    }\n",
    "\n",
    "    with open(output_json_path, 'w') as f:\n",
    "        json.dump(coco_format, f, indent=4)\n",
    "\n",
    "    print(f\"COCO JSON saved to {output_json_path}\")\n",
    "\n",
    "# Call the function to generate JSON\n",
    "xml_to_coco(\"Object-detection-dataset/valid\", \"Object-detection-dataset/valid/annotations.json\")\n"
   ]
  }
 ],
 "metadata": {
  "kernelspec": {
   "display_name": "Python 3 (ipykernel)",
   "language": "python",
   "name": "python3"
  },
  "language_info": {
   "codemirror_mode": {
    "name": "ipython",
    "version": 3
   },
   "file_extension": ".py",
   "mimetype": "text/x-python",
   "name": "python",
   "nbconvert_exporter": "python",
   "pygments_lexer": "ipython3",
   "version": "3.9.11"
  }
 },
 "nbformat": 4,
 "nbformat_minor": 5
}
