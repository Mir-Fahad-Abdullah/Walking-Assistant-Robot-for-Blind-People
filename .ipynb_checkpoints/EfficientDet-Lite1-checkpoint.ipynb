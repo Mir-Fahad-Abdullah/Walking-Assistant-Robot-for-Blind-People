{
 "cells": [
  {
   "cell_type": "markdown",
   "id": "29bedd27-9dfa-4a39-854b-59824ffc4cd8",
   "metadata": {},
   "source": [
    "# Importing Libraries"
   ]
  },
  {
   "cell_type": "code",
   "execution_count": 1,
   "id": "ba4e4041-d1ae-49d5-8e80-dfaaa56c76f3",
   "metadata": {},
   "outputs": [
    {
     "name": "stderr",
     "output_type": "stream",
     "text": [
      "C:\\Users\\fahad\\AppData\\Local\\Programs\\Python\\Python39\\lib\\site-packages\\tensorflow_addons\\utils\\tfa_eol_msg.py:23: UserWarning: \n",
      "\n",
      "TensorFlow Addons (TFA) has ended development and introduction of new features.\n",
      "TFA has entered a minimal maintenance and release mode until a planned end of life in May 2024.\n",
      "Please modify downstream libraries to take dependencies from other repositories in our TensorFlow community (e.g. Keras, Keras-CV, and Keras-NLP). \n",
      "\n",
      "For more information see: https://github.com/tensorflow/addons/issues/2807 \n",
      "\n",
      "  warnings.warn(\n",
      "C:\\Users\\fahad\\AppData\\Local\\Programs\\Python\\Python39\\lib\\site-packages\\tensorflow_addons\\utils\\ensure_tf_install.py:53: UserWarning: Tensorflow Addons supports using Python ops for all Tensorflow versions above or equal to 2.12.0 and strictly below 2.15.0 (nightly versions are not supported). \n",
      " The versions of TensorFlow you are currently using is 2.8.0 and is not supported. \n",
      "Some things might work, some things might not.\n",
      "If you were to encounter a bug, do not file an issue.\n",
      "If you want to make sure you're using a tested and supported configuration, either change the TensorFlow version or the TensorFlow Addons's version. \n",
      "You can find the compatibility matrix in TensorFlow Addon's readme:\n",
      "https://github.com/tensorflow/addons\n",
      "  warnings.warn(\n",
      "C:\\Users\\fahad\\AppData\\Local\\Programs\\Python\\Python39\\lib\\site-packages\\tqdm\\auto.py:21: TqdmWarning: IProgress not found. Please update jupyter and ipywidgets. See https://ipywidgets.readthedocs.io/en/stable/user_install.html\n",
      "  from .autonotebook import tqdm as notebook_tqdm\n"
     ]
    }
   ],
   "source": [
    "import numpy as np\n",
    "import os\n",
    "import tensorflow as tf\n",
    "import xml.etree.ElementTree as ET\n",
    "import matplotlib.pyplot as plt\n",
    "\n",
    "from tensorflow.keras.optimizers import Adam\n",
    "from tensorflow.keras.optimizers.schedules import ExponentialDecay\n",
    "from tensorflow.keras.callbacks import EarlyStopping, ReduceLROnPlateau\n",
    "from tensorflow.keras.utils import plot_model\n",
    "from absl import logging\n",
    "import shutil\n",
    "\n",
    "from tflite_model_maker import object_detector\n",
    "from tflite_model_maker.object_detector import DataLoader\n",
    "from tflite_model_maker.config import ExportFormat\n",
    "from tflite_model_maker import model_spec"
   ]
  },
  {
   "cell_type": "markdown",
   "id": "4cb510ff-7e6d-40f1-89d1-89a206c26485",
   "metadata": {},
   "source": [
    "# Setting Up for TensorFlow 2.0"
   ]
  },
  {
   "cell_type": "code",
   "execution_count": 2,
   "id": "7cd7889e-60d8-4c83-8711-5686af463fba",
   "metadata": {},
   "outputs": [],
   "source": [
    "assert tf.__version__.startswith('2')\n",
    "\n",
    "# Suppress TensorFlow and absl logs for cleaner output\n",
    "tf.get_logger().setLevel('ERROR')\n",
    "logging.set_verbosity(logging.ERROR)"
   ]
  },
  {
   "cell_type": "markdown",
   "id": "91dbdad7-25d8-45c3-a473-a2eb62c17923",
   "metadata": {},
   "source": [
    "# Dataset Preprocessing and Augmentation"
   ]
  },
  {
   "cell_type": "markdown",
   "id": "8e82dd74-fea9-4168-986a-346e7bc4b40a",
   "metadata": {},
   "source": [
    "### Directory paths"
   ]
  },
  {
   "cell_type": "code",
   "execution_count": 3,
   "id": "5065e7de-fab6-46ac-a217-6eb091b2a2bb",
   "metadata": {},
   "outputs": [],
   "source": [
    "base_dir = r'Object-detection-dataset'\n",
    "train_dir = 'Object-detection-dataset/train'\n",
    "valid_dir = 'Object-detection-dataset/valid'"
   ]
  },
  {
   "cell_type": "markdown",
   "id": "57f1b43b-864b-4057-b7e0-52f59a24f4bb",
   "metadata": {},
   "source": [
    "### Extracting Label Map"
   ]
  },
  {
   "cell_type": "code",
   "execution_count": 4,
   "id": "d481960b-0242-4fb6-8b10-7fd2215a49d5",
   "metadata": {},
   "outputs": [
    {
     "name": "stdout",
     "output_type": "stream",
     "text": [
      "Labels used in your annotations:\n",
      "Tom Tom\n",
      "aeroplane\n",
      "apple\n",
      "backpack\n",
      "banana\n",
      "baseball bat\n",
      "baseball glove\n",
      "bear\n",
      "bed\n",
      "bench\n",
      "bicycle\n",
      "bin\n",
      "bird\n",
      "boat\n",
      "book\n",
      "bottle\n",
      "bowl\n",
      "broccoli\n",
      "bus\n",
      "cake\n",
      "car\n",
      "cat\n",
      "cell phone\n",
      "chair\n",
      "clock\n",
      "cng\n",
      "cow\n",
      "cup\n",
      "diningtable\n",
      "dog\n",
      "donut\n",
      "door\n",
      "elephant\n",
      "fire hydrant\n",
      "fork\n",
      "frisbee\n",
      "giraffe\n",
      "glass partition\n",
      "handbag\n",
      "horse\n",
      "hot dog\n",
      "keyboard\n",
      "kite\n",
      "knife\n",
      "laptop\n",
      "microwave\n",
      "motorbike\n",
      "motorcycle\n",
      "mouse\n",
      "orange\n",
      "oven\n",
      "parking meter\n",
      "person\n",
      "pillar\n",
      "pizza\n",
      "pottedplant\n",
      "railing\n",
      "refrigerator\n",
      "remote\n",
      "rickshaw\n",
      "sandwich\n",
      "scissors\n",
      "sheep\n",
      "shelf\n",
      "sink\n",
      "skateboard\n",
      "skis\n",
      "snowboard\n",
      "sofa\n",
      "spoon\n",
      "sports ball\n",
      "stair\n",
      "stop sign\n",
      "suitcase\n",
      "surfboard\n",
      "table\n",
      "teddy bear\n",
      "tempu\n",
      "tennis racket\n",
      "tie\n",
      "toilet\n",
      "traffic light\n",
      "train\n",
      "tree\n",
      "truck\n",
      "tvmonitor\n",
      "umbrella\n",
      "van\n",
      "vase\n",
      "wine glass\n",
      "zebra\n"
     ]
    }
   ],
   "source": [
    "# Extract labels from XML files\n",
    "def extract_labels(directory):\n",
    "    labels = set()\n",
    "    for filename in os.listdir(directory):\n",
    "        if filename.endswith(\".xml\"):\n",
    "            tree = ET.parse(os.path.join(directory, filename))\n",
    "            root = tree.getroot()\n",
    "            for obj in root.findall('object'):\n",
    "                labels.add(obj.find('name').text)\n",
    "    return labels\n",
    "\n",
    "# Extract and merge all labels\n",
    "train_labels = extract_labels(train_dir)\n",
    "valid_labels = extract_labels(valid_dir)\n",
    "all_labels = sorted(train_labels.union(valid_labels))\n",
    "\n",
    "# Convert to the required label_map\n",
    "label_map = {i + 1: name for i, name in enumerate(all_labels)}\n",
    "\n",
    "# Display the labels\n",
    "print(\"Labels used in your annotations:\")\n",
    "for label in all_labels:\n",
    "    print(label)"
   ]
  },
  {
   "cell_type": "markdown",
   "id": "0d326b9d-5ed2-4fae-b820-3bb11a5a322d",
   "metadata": {},
   "source": [
    "### Data Augmentation"
   ]
  },
  {
   "cell_type": "code",
   "execution_count": 5,
   "id": "bec82316-9d6b-4b3b-8d73-bde8a63d2ffe",
   "metadata": {},
   "outputs": [],
   "source": [
    "def augment_image(image, bbox):\n",
    "    image = tf.image.random_flip_left_right(image)\n",
    "    image = tf.image.random_brightness(image, max_delta=0.1)\n",
    "    image = tf.image.random_contrast(image, 0.9, 1.1)\n",
    "    return image, bbox"
   ]
  },
  {
   "cell_type": "markdown",
   "id": "d4d7e270-68de-44d3-bbc4-539650a930a0",
   "metadata": {},
   "source": [
    "### Apply and Save Augmented Images"
   ]
  },
  {
   "cell_type": "code",
   "execution_count": 6,
   "id": "292327e4-7e85-43bd-95af-44099ec9ee3c",
   "metadata": {},
   "outputs": [],
   "source": [
    "aug_dir = os.path.join(base_dir, 'train_augmented')\n",
    "os.makedirs(aug_dir, exist_ok=True)\n",
    "\n",
    "for file in os.listdir(train_dir):\n",
    "    if file.endswith('.jpg') or file.endswith('.png'):\n",
    "        base_name = os.path.splitext(file)[0]\n",
    "        img_path = os.path.join(train_dir, file)\n",
    "        xml_path = os.path.join(train_dir, base_name + '.xml')\n",
    "\n",
    "        if not os.path.exists(xml_path):\n",
    "            continue  # Skip if annotation missing\n",
    "\n",
    "        # Load and augment image\n",
    "        image = tf.io.read_file(img_path)\n",
    "        image = tf.image.decode_jpeg(image, channels = 3)\n",
    "        image = tf.image.resize(image, (384, 384))\n",
    "        image = tf.cast(image, tf.uint8)\n",
    "\n",
    "        aug_image, _ = augment_image(image, None)\n",
    "        aug_image = tf.image.encode_jpeg(tf.cast(aug_image, tf.uint8))\n",
    "\n",
    "        # Save augmented image\n",
    "        aug_img_name = base_name + '_aug.jpg'\n",
    "        aug_img_path = os.path.join(aug_dir, aug_img_name)\n",
    "        tf.io.write_file(aug_img_path, aug_image)\n",
    "\n",
    "        # Copy original XML with new name\n",
    "        aug_xml_name = base_name + '_aug.xml'\n",
    "        shutil.copy(xml_path, os.path.join(aug_dir, aug_xml_name))"
   ]
  },
  {
   "cell_type": "markdown",
   "id": "7b8edf0e-f0a5-4f1a-8e8b-1aaaca06f247",
   "metadata": {},
   "source": [
    "### Merge Original and Augmented Training Data"
   ]
  },
  {
   "cell_type": "code",
   "execution_count": 7,
   "id": "130217f0-9175-49d7-a2ab-0b8959583179",
   "metadata": {},
   "outputs": [],
   "source": [
    "train_combined_dir = os.path.join(base_dir, 'train_combined')\n",
    "os.makedirs(train_combined_dir, exist_ok = True)\n",
    "\n",
    "for src_dir in [train_dir, aug_dir]:\n",
    "    for f in os.listdir(src_dir):\n",
    "        shutil.copy(os.path.join(src_dir, f), os.path.join(train_combined_dir, f))"
   ]
  },
  {
   "cell_type": "markdown",
   "id": "ea82bd82-0bd9-479f-9556-246ec4e20b7c",
   "metadata": {},
   "source": [
    "### Load Dataset with Augmented Data"
   ]
  },
  {
   "cell_type": "code",
   "execution_count": 8,
   "id": "43a89321-a041-4289-a5f5-c3bfb23a2524",
   "metadata": {},
   "outputs": [],
   "source": [
    "train_data = object_detector.DataLoader.from_pascal_voc(\n",
    "    train_combined_dir,\n",
    "    train_combined_dir,\n",
    "    label_map\n",
    ")\n",
    "\n",
    "val_data = object_detector.DataLoader.from_pascal_voc(\n",
    "    valid_dir,\n",
    "    valid_dir,\n",
    "    label_map\n",
    ")"
   ]
  },
  {
   "cell_type": "markdown",
   "id": "4b34d95a-18f8-4dc7-98a0-5e5af039f0e2",
   "metadata": {},
   "source": [
    "# Initialize EfficientDet-Lite1 Pretrained Model"
   ]
  },
  {
   "cell_type": "code",
   "execution_count": 9,
   "id": "7fc54268-8f22-47f6-b126-3353da5a5b16",
   "metadata": {},
   "outputs": [],
   "source": [
    "spec = model_spec.get(\"efficientdet_lite1\")\n",
    "\n",
    "initial_learning_rate = 0.001\n",
    "lr_schedule = ExponentialDecay(\n",
    "    initial_learning_rate,\n",
    "    decay_steps=1000,\n",
    "    decay_rate=0.9,\n",
    "    staircase=True\n",
    ")\n",
    "\n",
    "spec.optimizer = Adam(learning_rate=lr_schedule)"
   ]
  },
  {
   "cell_type": "markdown",
   "id": "031c2a89-746c-4411-be71-5e6177524922",
   "metadata": {},
   "source": [
    "# Model Training"
   ]
  },
  {
   "cell_type": "markdown",
   "id": "eab51d12-d9d2-4685-b781-5ee81d464a31",
   "metadata": {},
   "source": [
    "### Training Configuration"
   ]
  },
  {
   "cell_type": "code",
   "execution_count": 10,
   "id": "a82a399a-84c1-42bd-9e9d-41e1e602adf6",
   "metadata": {},
   "outputs": [],
   "source": [
    "IMAGE_SIZE = (384, 384)\n",
    "BATCH_SIZE = 8\n",
    "EPOCH_SIZE = 30"
   ]
  },
  {
   "cell_type": "markdown",
   "id": "1e26444a-5265-42b3-9343-2bb45e286325",
   "metadata": {},
   "source": [
    "### Training"
   ]
  },
  {
   "cell_type": "code",
   "execution_count": 11,
   "id": "13c3fae1-b58e-41ce-9e7d-027d11b9352e",
   "metadata": {
    "scrolled": true
   },
   "outputs": [
    {
     "name": "stdout",
     "output_type": "stream",
     "text": [
      "Epoch 1/50\n",
      "102/102 [==============================] - 306s 3s/step - det_loss: 1.8850 - cls_loss: 1.3097 - box_loss: 0.0115 - reg_l2_loss: 0.0205 - loss: 1.9055 - learning_rate: 0.0090 - gradient_norm: 0.6645 - val_det_loss: 1.5370 - val_cls_loss: 1.1725 - val_box_loss: 0.0073 - val_reg_l2_loss: 0.0205 - val_loss: 1.5574\n",
      "Epoch 2/50\n",
      "102/102 [==============================] - 244s 2s/step - det_loss: 1.5241 - cls_loss: 1.1316 - box_loss: 0.0078 - reg_l2_loss: 0.0205 - loss: 1.5445 - learning_rate: 0.0100 - gradient_norm: 0.8504 - val_det_loss: 1.3947 - val_cls_loss: 1.0641 - val_box_loss: 0.0066 - val_reg_l2_loss: 0.0205 - val_loss: 1.4152\n",
      "Epoch 3/50\n",
      "102/102 [==============================] - 250s 2s/step - det_loss: 1.3912 - cls_loss: 1.0503 - box_loss: 0.0068 - reg_l2_loss: 0.0205 - loss: 1.4117 - learning_rate: 0.0099 - gradient_norm: 0.8878 - val_det_loss: 1.3228 - val_cls_loss: 0.9900 - val_box_loss: 0.0067 - val_reg_l2_loss: 0.0205 - val_loss: 1.3433\n",
      "Epoch 4/50\n",
      "102/102 [==============================] - 243s 2s/step - det_loss: 1.3425 - cls_loss: 1.0036 - box_loss: 0.0068 - reg_l2_loss: 0.0205 - loss: 1.3630 - learning_rate: 0.0099 - gradient_norm: 0.9265 - val_det_loss: 1.2539 - val_cls_loss: 0.9568 - val_box_loss: 0.0059 - val_reg_l2_loss: 0.0205 - val_loss: 1.2744\n",
      "Epoch 5/50\n",
      "102/102 [==============================] - 270s 3s/step - det_loss: 1.2811 - cls_loss: 0.9539 - box_loss: 0.0065 - reg_l2_loss: 0.0205 - loss: 1.3016 - learning_rate: 0.0098 - gradient_norm: 0.9069 - val_det_loss: 1.1776 - val_cls_loss: 0.8775 - val_box_loss: 0.0060 - val_reg_l2_loss: 0.0205 - val_loss: 1.1981\n",
      "Epoch 6/50\n",
      "102/102 [==============================] - 244s 2s/step - det_loss: 1.1985 - cls_loss: 0.8846 - box_loss: 0.0063 - reg_l2_loss: 0.0205 - loss: 1.2190 - learning_rate: 0.0097 - gradient_norm: 0.9266 - val_det_loss: 1.1081 - val_cls_loss: 0.8167 - val_box_loss: 0.0058 - val_reg_l2_loss: 0.0205 - val_loss: 1.1286\n",
      "Epoch 7/50\n",
      "102/102 [==============================] - 243s 2s/step - det_loss: 1.1503 - cls_loss: 0.8420 - box_loss: 0.0062 - reg_l2_loss: 0.0206 - loss: 1.1709 - learning_rate: 0.0096 - gradient_norm: 0.9829 - val_det_loss: 1.0753 - val_cls_loss: 0.7909 - val_box_loss: 0.0057 - val_reg_l2_loss: 0.0206 - val_loss: 1.0959\n",
      "Epoch 8/50\n",
      "102/102 [==============================] - 248s 2s/step - det_loss: 1.0770 - cls_loss: 0.7698 - box_loss: 0.0061 - reg_l2_loss: 0.0206 - loss: 1.0976 - learning_rate: 0.0094 - gradient_norm: 0.9767 - val_det_loss: 1.0480 - val_cls_loss: 0.7712 - val_box_loss: 0.0055 - val_reg_l2_loss: 0.0206 - val_loss: 1.0686\n",
      "Epoch 9/50\n",
      "102/102 [==============================] - 248s 2s/step - det_loss: 1.0348 - cls_loss: 0.7353 - box_loss: 0.0060 - reg_l2_loss: 0.0206 - loss: 1.0554 - learning_rate: 0.0093 - gradient_norm: 0.9471 - val_det_loss: 1.0266 - val_cls_loss: 0.7500 - val_box_loss: 0.0055 - val_reg_l2_loss: 0.0207 - val_loss: 1.0473\n",
      "Epoch 10/50\n",
      "102/102 [==============================] - 262s 3s/step - det_loss: 0.9968 - cls_loss: 0.6961 - box_loss: 0.0060 - reg_l2_loss: 0.0207 - loss: 1.0174 - learning_rate: 0.0091 - gradient_norm: 1.0004 - val_det_loss: 1.0309 - val_cls_loss: 0.7508 - val_box_loss: 0.0056 - val_reg_l2_loss: 0.0207 - val_loss: 1.0516\n",
      "Epoch 11/50\n",
      "102/102 [==============================] - 246s 2s/step - det_loss: 0.9546 - cls_loss: 0.6633 - box_loss: 0.0058 - reg_l2_loss: 0.0207 - loss: 0.9753 - learning_rate: 0.0089 - gradient_norm: 0.9891 - val_det_loss: 1.0074 - val_cls_loss: 0.7369 - val_box_loss: 0.0054 - val_reg_l2_loss: 0.0207 - val_loss: 1.0282\n",
      "Epoch 12/50\n",
      "102/102 [==============================] - 244s 2s/step - det_loss: 0.9456 - cls_loss: 0.6464 - box_loss: 0.0060 - reg_l2_loss: 0.0207 - loss: 0.9664 - learning_rate: 0.0087 - gradient_norm: 0.9793 - val_det_loss: 1.0202 - val_cls_loss: 0.7504 - val_box_loss: 0.0054 - val_reg_l2_loss: 0.0207 - val_loss: 1.0410\n",
      "Epoch 13/50\n",
      "102/102 [==============================] - 242s 2s/step - det_loss: 0.9288 - cls_loss: 0.6323 - box_loss: 0.0059 - reg_l2_loss: 0.0208 - loss: 0.9495 - learning_rate: 0.0085 - gradient_norm: 0.9990 - val_det_loss: 1.0044 - val_cls_loss: 0.7074 - val_box_loss: 0.0059 - val_reg_l2_loss: 0.0208 - val_loss: 1.0252\n",
      "Epoch 14/50\n",
      "102/102 [==============================] - 244s 2s/step - det_loss: 0.9204 - cls_loss: 0.6230 - box_loss: 0.0059 - reg_l2_loss: 0.0208 - loss: 0.9412 - learning_rate: 0.0082 - gradient_norm: 0.9863 - val_det_loss: 0.9937 - val_cls_loss: 0.7127 - val_box_loss: 0.0056 - val_reg_l2_loss: 0.0208 - val_loss: 1.0144\n",
      "Epoch 15/50\n",
      "102/102 [==============================] - 259s 3s/step - det_loss: 0.8937 - cls_loss: 0.6003 - box_loss: 0.0059 - reg_l2_loss: 0.0208 - loss: 0.9145 - learning_rate: 0.0080 - gradient_norm: 0.9876 - val_det_loss: 0.9866 - val_cls_loss: 0.7178 - val_box_loss: 0.0054 - val_reg_l2_loss: 0.0208 - val_loss: 1.0074\n",
      "Epoch 16/50\n",
      "102/102 [==============================] - 245s 2s/step - det_loss: 0.8876 - cls_loss: 0.5965 - box_loss: 0.0058 - reg_l2_loss: 0.0208 - loss: 0.9084 - learning_rate: 0.0077 - gradient_norm: 1.0194 - val_det_loss: 0.9651 - val_cls_loss: 0.6997 - val_box_loss: 0.0053 - val_reg_l2_loss: 0.0208 - val_loss: 0.9859\n",
      "Epoch 17/50\n",
      "102/102 [==============================] - 244s 2s/step - det_loss: 0.8835 - cls_loss: 0.5919 - box_loss: 0.0058 - reg_l2_loss: 0.0208 - loss: 0.9043 - learning_rate: 0.0075 - gradient_norm: 0.9889 - val_det_loss: 0.9657 - val_cls_loss: 0.6988 - val_box_loss: 0.0053 - val_reg_l2_loss: 0.0208 - val_loss: 0.9865\n",
      "Epoch 18/50\n",
      "102/102 [==============================] - 245s 2s/step - det_loss: 0.8861 - cls_loss: 0.5916 - box_loss: 0.0059 - reg_l2_loss: 0.0208 - loss: 0.9069 - learning_rate: 0.0072 - gradient_norm: 0.9995 - val_det_loss: 0.9597 - val_cls_loss: 0.6910 - val_box_loss: 0.0054 - val_reg_l2_loss: 0.0208 - val_loss: 0.9805\n",
      "Epoch 19/50\n",
      "102/102 [==============================] - 246s 2s/step - det_loss: 0.8702 - cls_loss: 0.5731 - box_loss: 0.0059 - reg_l2_loss: 0.0209 - loss: 0.8910 - learning_rate: 0.0069 - gradient_norm: 0.9980 - val_det_loss: 0.9618 - val_cls_loss: 0.6950 - val_box_loss: 0.0053 - val_reg_l2_loss: 0.0209 - val_loss: 0.9827\n",
      "Epoch 20/50\n",
      "102/102 [==============================] - 262s 3s/step - det_loss: 0.8446 - cls_loss: 0.5553 - box_loss: 0.0058 - reg_l2_loss: 0.0209 - loss: 0.8655 - learning_rate: 0.0066 - gradient_norm: 0.9968 - val_det_loss: 0.9637 - val_cls_loss: 0.6846 - val_box_loss: 0.0056 - val_reg_l2_loss: 0.0209 - val_loss: 0.9845\n",
      "Epoch 21/50\n",
      "102/102 [==============================] - 248s 2s/step - det_loss: 0.8495 - cls_loss: 0.5615 - box_loss: 0.0058 - reg_l2_loss: 0.0209 - loss: 0.8704 - learning_rate: 0.0063 - gradient_norm: 1.0064 - val_det_loss: 0.9696 - val_cls_loss: 0.6954 - val_box_loss: 0.0055 - val_reg_l2_loss: 0.0209 - val_loss: 0.9905\n",
      "Epoch 22/50\n",
      "102/102 [==============================] - 245s 2s/step - det_loss: 0.8367 - cls_loss: 0.5522 - box_loss: 0.0057 - reg_l2_loss: 0.0209 - loss: 0.8576 - learning_rate: 0.0060 - gradient_norm: 0.9996 - val_det_loss: 0.9466 - val_cls_loss: 0.6880 - val_box_loss: 0.0052 - val_reg_l2_loss: 0.0209 - val_loss: 0.9674\n",
      "Epoch 23/50\n",
      "102/102 [==============================] - 244s 2s/step - det_loss: 0.8404 - cls_loss: 0.5488 - box_loss: 0.0058 - reg_l2_loss: 0.0209 - loss: 0.8613 - learning_rate: 0.0056 - gradient_norm: 1.0183 - val_det_loss: 0.9532 - val_cls_loss: 0.6864 - val_box_loss: 0.0053 - val_reg_l2_loss: 0.0209 - val_loss: 0.9741\n",
      "Epoch 24/50\n",
      "102/102 [==============================] - 244s 2s/step - det_loss: 0.8331 - cls_loss: 0.5433 - box_loss: 0.0058 - reg_l2_loss: 0.0209 - loss: 0.8540 - learning_rate: 0.0053 - gradient_norm: 1.0160 - val_det_loss: 0.9541 - val_cls_loss: 0.6908 - val_box_loss: 0.0053 - val_reg_l2_loss: 0.0209 - val_loss: 0.9750\n",
      "Epoch 25/50\n",
      "102/102 [==============================] - 259s 3s/step - det_loss: 0.8295 - cls_loss: 0.5446 - box_loss: 0.0057 - reg_l2_loss: 0.0209 - loss: 0.8504 - learning_rate: 0.0050 - gradient_norm: 1.0136 - val_det_loss: 0.9516 - val_cls_loss: 0.6825 - val_box_loss: 0.0054 - val_reg_l2_loss: 0.0209 - val_loss: 0.9725\n",
      "Epoch 26/50\n",
      "102/102 [==============================] - 245s 2s/step - det_loss: 0.8205 - cls_loss: 0.5430 - box_loss: 0.0056 - reg_l2_loss: 0.0209 - loss: 0.8414 - learning_rate: 0.0047 - gradient_norm: 1.0066 - val_det_loss: 0.9513 - val_cls_loss: 0.6797 - val_box_loss: 0.0054 - val_reg_l2_loss: 0.0209 - val_loss: 0.9722\n",
      "Epoch 27/50\n",
      "102/102 [==============================] - 245s 2s/step - det_loss: 0.8236 - cls_loss: 0.5417 - box_loss: 0.0056 - reg_l2_loss: 0.0209 - loss: 0.8444 - learning_rate: 0.0044 - gradient_norm: 1.0118 - val_det_loss: 0.9475 - val_cls_loss: 0.6821 - val_box_loss: 0.0053 - val_reg_l2_loss: 0.0209 - val_loss: 0.9684\n",
      "Epoch 28/50\n",
      "102/102 [==============================] - 246s 2s/step - det_loss: 0.8243 - cls_loss: 0.5366 - box_loss: 0.0058 - reg_l2_loss: 0.0209 - loss: 0.8452 - learning_rate: 0.0040 - gradient_norm: 1.0107 - val_det_loss: 0.9402 - val_cls_loss: 0.6775 - val_box_loss: 0.0053 - val_reg_l2_loss: 0.0209 - val_loss: 0.9611\n",
      "Epoch 29/50\n",
      "102/102 [==============================] - 244s 2s/step - det_loss: 0.8168 - cls_loss: 0.5352 - box_loss: 0.0056 - reg_l2_loss: 0.0209 - loss: 0.8377 - learning_rate: 0.0037 - gradient_norm: 1.0327 - val_det_loss: 0.9489 - val_cls_loss: 0.6817 - val_box_loss: 0.0053 - val_reg_l2_loss: 0.0209 - val_loss: 0.9698\n",
      "Epoch 30/50\n",
      "102/102 [==============================] - 257s 3s/step - det_loss: 0.7969 - cls_loss: 0.5213 - box_loss: 0.0055 - reg_l2_loss: 0.0209 - loss: 0.8178 - learning_rate: 0.0034 - gradient_norm: 1.0021 - val_det_loss: 0.9553 - val_cls_loss: 0.6828 - val_box_loss: 0.0055 - val_reg_l2_loss: 0.0209 - val_loss: 0.9762\n",
      "Epoch 31/50\n",
      "102/102 [==============================] - 244s 2s/step - det_loss: 0.8121 - cls_loss: 0.5271 - box_loss: 0.0057 - reg_l2_loss: 0.0209 - loss: 0.8330 - learning_rate: 0.0031 - gradient_norm: 1.0154 - val_det_loss: 0.9353 - val_cls_loss: 0.6756 - val_box_loss: 0.0052 - val_reg_l2_loss: 0.0209 - val_loss: 0.9562\n",
      "Epoch 32/50\n",
      "102/102 [==============================] - 248s 2s/step - det_loss: 0.7997 - cls_loss: 0.5193 - box_loss: 0.0056 - reg_l2_loss: 0.0209 - loss: 0.8206 - learning_rate: 0.0028 - gradient_norm: 1.0105 - val_det_loss: 0.9368 - val_cls_loss: 0.6747 - val_box_loss: 0.0052 - val_reg_l2_loss: 0.0209 - val_loss: 0.9577\n",
      "Epoch 33/50\n",
      "102/102 [==============================] - 246s 2s/step - det_loss: 0.7969 - cls_loss: 0.5171 - box_loss: 0.0056 - reg_l2_loss: 0.0209 - loss: 0.8178 - learning_rate: 0.0025 - gradient_norm: 1.0192 - val_det_loss: 0.9360 - val_cls_loss: 0.6756 - val_box_loss: 0.0052 - val_reg_l2_loss: 0.0209 - val_loss: 0.9569\n",
      "Epoch 34/50\n",
      "102/102 [==============================] - 256s 3s/step - det_loss: 0.7881 - cls_loss: 0.5142 - box_loss: 0.0055 - reg_l2_loss: 0.0209 - loss: 0.8090 - learning_rate: 0.0023 - gradient_norm: 1.0062 - val_det_loss: 0.9390 - val_cls_loss: 0.6756 - val_box_loss: 0.0053 - val_reg_l2_loss: 0.0209 - val_loss: 0.9599\n",
      "Epoch 35/50\n",
      "102/102 [==============================] - 256s 3s/step - det_loss: 0.7984 - cls_loss: 0.5176 - box_loss: 0.0056 - reg_l2_loss: 0.0209 - loss: 0.8193 - learning_rate: 0.0020 - gradient_norm: 0.9998 - val_det_loss: 0.9400 - val_cls_loss: 0.6758 - val_box_loss: 0.0053 - val_reg_l2_loss: 0.0209 - val_loss: 0.9609\n",
      "Epoch 36/50\n",
      "102/102 [==============================] - 246s 2s/step - det_loss: 0.7982 - cls_loss: 0.5152 - box_loss: 0.0057 - reg_l2_loss: 0.0209 - loss: 0.8191 - learning_rate: 0.0018 - gradient_norm: 1.0214 - val_det_loss: 0.9342 - val_cls_loss: 0.6719 - val_box_loss: 0.0052 - val_reg_l2_loss: 0.0209 - val_loss: 0.9551\n",
      "Epoch 37/50\n",
      "102/102 [==============================] - 243s 2s/step - det_loss: 0.8126 - cls_loss: 0.5243 - box_loss: 0.0058 - reg_l2_loss: 0.0209 - loss: 0.8335 - learning_rate: 0.0015 - gradient_norm: 1.0262 - val_det_loss: 0.9358 - val_cls_loss: 0.6761 - val_box_loss: 0.0052 - val_reg_l2_loss: 0.0209 - val_loss: 0.9567\n",
      "Epoch 38/50\n",
      "102/102 [==============================] - 241s 2s/step - det_loss: 0.7977 - cls_loss: 0.5168 - box_loss: 0.0056 - reg_l2_loss: 0.0209 - loss: 0.8186 - learning_rate: 0.0013 - gradient_norm: 1.0023 - val_det_loss: 0.9329 - val_cls_loss: 0.6720 - val_box_loss: 0.0052 - val_reg_l2_loss: 0.0209 - val_loss: 0.9538\n",
      "Epoch 39/50\n",
      "102/102 [==============================] - 246s 2s/step - det_loss: 0.7948 - cls_loss: 0.5123 - box_loss: 0.0057 - reg_l2_loss: 0.0209 - loss: 0.8157 - learning_rate: 0.0011 - gradient_norm: 1.0301 - val_det_loss: 0.9343 - val_cls_loss: 0.6712 - val_box_loss: 0.0053 - val_reg_l2_loss: 0.0209 - val_loss: 0.9552\n",
      "Epoch 40/50\n",
      "102/102 [==============================] - 257s 3s/step - det_loss: 0.7828 - cls_loss: 0.5078 - box_loss: 0.0055 - reg_l2_loss: 0.0209 - loss: 0.8037 - learning_rate: 8.9987e-04 - gradient_norm: 1.0037 - val_det_loss: 0.9358 - val_cls_loss: 0.6731 - val_box_loss: 0.0053 - val_reg_l2_loss: 0.0209 - val_loss: 0.9567\n",
      "Epoch 41/50\n",
      "102/102 [==============================] - 244s 2s/step - det_loss: 0.7755 - cls_loss: 0.5012 - box_loss: 0.0055 - reg_l2_loss: 0.0209 - loss: 0.7964 - learning_rate: 7.2505e-04 - gradient_norm: 1.0027 - val_det_loss: 0.9357 - val_cls_loss: 0.6726 - val_box_loss: 0.0053 - val_reg_l2_loss: 0.0209 - val_loss: 0.9566\n",
      "Epoch 42/50\n",
      "102/102 [==============================] - 245s 2s/step - det_loss: 0.7975 - cls_loss: 0.5168 - box_loss: 0.0056 - reg_l2_loss: 0.0209 - loss: 0.8184 - learning_rate: 5.6779e-04 - gradient_norm: 1.0143 - val_det_loss: 0.9396 - val_cls_loss: 0.6765 - val_box_loss: 0.0053 - val_reg_l2_loss: 0.0209 - val_loss: 0.9605\n",
      "Epoch 43/50\n",
      "102/102 [==============================] - 244s 2s/step - det_loss: 0.7845 - cls_loss: 0.5092 - box_loss: 0.0055 - reg_l2_loss: 0.0209 - loss: 0.8054 - learning_rate: 4.2875e-04 - gradient_norm: 0.9943 - val_det_loss: 0.9364 - val_cls_loss: 0.6733 - val_box_loss: 0.0053 - val_reg_l2_loss: 0.0209 - val_loss: 0.9573\n",
      "Epoch 44/50\n",
      "102/102 [==============================] - 244s 2s/step - det_loss: 0.7858 - cls_loss: 0.5071 - box_loss: 0.0056 - reg_l2_loss: 0.0209 - loss: 0.8067 - learning_rate: 3.0849e-04 - gradient_norm: 1.0089 - val_det_loss: 0.9358 - val_cls_loss: 0.6727 - val_box_loss: 0.0053 - val_reg_l2_loss: 0.0209 - val_loss: 0.9567\n",
      "Epoch 45/50\n",
      "102/102 [==============================] - 259s 3s/step - det_loss: 0.7962 - cls_loss: 0.5199 - box_loss: 0.0055 - reg_l2_loss: 0.0209 - loss: 0.8171 - learning_rate: 2.0751e-04 - gradient_norm: 1.0215 - val_det_loss: 0.9366 - val_cls_loss: 0.6734 - val_box_loss: 0.0053 - val_reg_l2_loss: 0.0209 - val_loss: 0.9575\n",
      "Epoch 46/50\n",
      "102/102 [==============================] - 244s 2s/step - det_loss: 0.7990 - cls_loss: 0.5146 - box_loss: 0.0057 - reg_l2_loss: 0.0209 - loss: 0.8199 - learning_rate: 1.2622e-04 - gradient_norm: 1.0272 - val_det_loss: 0.9340 - val_cls_loss: 0.6716 - val_box_loss: 0.0052 - val_reg_l2_loss: 0.0209 - val_loss: 0.9549\n",
      "Epoch 47/50\n",
      "102/102 [==============================] - 244s 2s/step - det_loss: 0.7830 - cls_loss: 0.5054 - box_loss: 0.0056 - reg_l2_loss: 0.0209 - loss: 0.8039 - learning_rate: 6.4957e-05 - gradient_norm: 1.0158 - val_det_loss: 0.9343 - val_cls_loss: 0.6718 - val_box_loss: 0.0053 - val_reg_l2_loss: 0.0209 - val_loss: 0.9552\n",
      "Epoch 48/50\n",
      "102/102 [==============================] - 246s 2s/step - det_loss: 0.7842 - cls_loss: 0.5113 - box_loss: 0.0055 - reg_l2_loss: 0.0209 - loss: 0.8051 - learning_rate: 2.3975e-05 - gradient_norm: 0.9994 - val_det_loss: 0.9348 - val_cls_loss: 0.6719 - val_box_loss: 0.0053 - val_reg_l2_loss: 0.0209 - val_loss: 0.9557\n",
      "Epoch 49/50\n",
      "102/102 [==============================] - 249s 2s/step - det_loss: 0.7924 - cls_loss: 0.5121 - box_loss: 0.0056 - reg_l2_loss: 0.0209 - loss: 0.8133 - learning_rate: 3.4416e-06 - gradient_norm: 1.0110 - val_det_loss: 0.9360 - val_cls_loss: 0.6726 - val_box_loss: 0.0053 - val_reg_l2_loss: 0.0209 - val_loss: 0.9569\n",
      "Epoch 50/50\n",
      "102/102 [==============================] - 259s 3s/step - det_loss: 0.7878 - cls_loss: 0.5094 - box_loss: 0.0056 - reg_l2_loss: 0.0209 - loss: 0.8087 - learning_rate: 3.4396e-06 - gradient_norm: 1.0278 - val_det_loss: 0.9340 - val_cls_loss: 0.6705 - val_box_loss: 0.0053 - val_reg_l2_loss: 0.0209 - val_loss: 0.9549\n"
     ]
    }
   ],
   "source": [
    "model = object_detector.create(\n",
    "    train_data,\n",
    "    model_spec=spec,\n",
    "    batch_size=BATCH_SIZE,\n",
    "    train_whole_model=False,  # Freeze backbone, train only detection head\n",
    "    validation_data=val_data,\n",
    "    epochs=EPOCH_SIZE,\n",
    "    do_train=True,\n",
    ")"
   ]
  },
  {
   "cell_type": "markdown",
   "id": "5b2c7b76-4a28-401b-a27a-026c9f3ee5b9",
   "metadata": {},
   "source": [
    "### Save the Trained Model"
   ]
  },
  {
   "cell_type": "code",
   "execution_count": 14,
   "id": "8cb4de05-3a4e-4248-9b35-8326f38e3229",
   "metadata": {},
   "outputs": [],
   "source": [
    "model.model.optimizer.learning_rate = tf.constant(0.0001)\n",
    "model.model.save('efficientdet_lite1_saved_model')"
   ]
  },
  {
   "cell_type": "markdown",
   "id": "f106caa8-565a-437d-9a41-86a9f237cd74",
   "metadata": {},
   "source": [
    "# Model Summary and Plot"
   ]
  },
  {
   "cell_type": "code",
   "execution_count": 12,
   "id": "4a23383c-fd7c-4183-b0ae-17211355ff80",
   "metadata": {},
   "outputs": [
    {
     "name": "stdout",
     "output_type": "stream",
     "text": [
      "Model: \"\"\n",
      "_________________________________________________________________\n",
      " Layer (type)                Output Shape              Param #   \n",
      "=================================================================\n",
      " keras_layer (KerasLayer)    multiple                  4234512   \n",
      "                                                                 \n",
      " class_net/class-predict (Se  multiple                 73683     \n",
      " parableConv2D)                                                  \n",
      "                                                                 \n",
      " box_net/box-predict (Separa  multiple                 3996      \n",
      " bleConv2D)                                                      \n",
      "                                                                 \n",
      "=================================================================\n",
      "Total params: 4,312,191\n",
      "Trainable params: 4,249,119\n",
      "Non-trainable params: 63,072\n",
      "_________________________________________________________________\n"
     ]
    },
    {
     "data": {
      "image/png": "[encoded data removed]",
      "text/plain": [
       "<IPython.core.display.Image object>"
      ]
     },
     "execution_count": 12,
     "metadata": {},
     "output_type": "execute_result"
    }
   ],
   "source": [
    "model.model.summary()\n",
    "plot_model(model.model, show_shapes=True, show_layer_names=True, dpi=96)"
   ]
  },
  {
   "cell_type": "markdown",
   "id": "5777edb4-c94f-48ba-abf6-9c703ca7f569",
   "metadata": {},
   "source": [
    "# Learning Curve"
   ]
  },
  {
   "cell_type": "code",
   "execution_count": 15,
   "id": "9ad99f91-44bd-43d0-b22d-64039847729f",
   "metadata": {},
   "outputs": [
    {
     "data": {
      "image/png": "[encoded data removed]",
      "text/plain": [
       "<Figure size 1000x500 with 1 Axes>"
      ]
     },
     "metadata": {},
     "output_type": "display_data"
    }
   ],
   "source": [
    "history = model.model.history\n",
    "\n",
    "if history and hasattr(history, 'history'):\n",
    "    plt.figure(figsize = (10, 5))\n",
    "    for key, values in history.history.items():\n",
    "        plt.plot(values, label=key)\n",
    "    plt.title('Learning Curves')\n",
    "    plt.xlabel('Epochs')\n",
    "    plt.ylabel('Metric')\n",
    "    plt.legend()\n",
    "    plt.grid(True)\n",
    "    plt.show()"
   ]
  },
  {
   "cell_type": "markdown",
   "id": "cc4ce60d-d499-4ccb-a4fa-8b32ff1424b6",
   "metadata": {},
   "source": [
    "### Model Evaluation"
   ]
  },
  {
   "cell_type": "code",
   "execution_count": 16,
   "id": "b1853c3b-6b86-481a-94d3-31125b3583d4",
   "metadata": {
    "scrolled": true
   },
   "outputs": [
    {
     "name": "stdout",
     "output_type": "stream",
     "text": [
      "2/2 [==============================] - 538s 178s/step\n",
      "\n",
      "\n",
      "Evaluation Metrics:\n",
      "AP: 0.1751\n",
      "AP50: 0.2758\n",
      "AP75: 0.1816\n",
      "APs: 0.0077\n",
      "APm: 0.1843\n",
      "APl: 0.3183\n",
      "ARmax1: 0.1759\n",
      "ARmax10: 0.2656\n",
      "ARmax100: 0.2701\n",
      "ARs: 0.0177\n",
      "ARm: 0.2610\n",
      "ARl: 0.4492\n",
      "AP_/Tom Tom: -1.0000\n",
      "AP_/aeroplane: 0.3274\n",
      "AP_/apple: -1.0000\n",
      "AP_/backpack: 0.0441\n",
      "AP_/banana: -1.0000\n",
      "AP_/baseball bat: 0.0433\n",
      "AP_/baseball glove: 0.0005\n",
      "AP_/bear: -1.0000\n",
      "AP_/bed: -1.0000\n",
      "AP_/bench: 0.1600\n",
      "AP_/bicycle: 0.0387\n",
      "AP_/bin: 0.0000\n",
      "AP_/bird: 0.1000\n",
      "AP_/boat: 0.0000\n",
      "AP_/book: 0.0297\n",
      "AP_/bottle: 0.2485\n",
      "AP_/bowl: 0.0000\n",
      "AP_/broccoli: -1.0000\n",
      "AP_/bus: 0.3846\n",
      "AP_/cake: 0.0000\n",
      "AP_/car: 0.2443\n",
      "AP_/cat: 0.0000\n",
      "AP_/cell phone: 0.0000\n",
      "AP_/chair: 0.0692\n",
      "AP_/clock: 0.0000\n",
      "AP_/cng: 0.1561\n",
      "AP_/cow: 0.3750\n",
      "AP_/cup: 0.1817\n",
      "AP_/diningtable: 0.1852\n",
      "AP_/dog: 0.2207\n",
      "AP_/donut: -1.0000\n",
      "AP_/door: -1.0000\n",
      "AP_/elephant: 0.8256\n",
      "AP_/fire hydrant: 0.7812\n",
      "AP_/fork: 0.0000\n",
      "AP_/frisbee: 0.7504\n",
      "AP_/giraffe: -1.0000\n",
      "AP_/glass partition: -1.0000\n",
      "AP_/handbag: 0.0012\n",
      "AP_/horse: 0.5059\n",
      "AP_/hot dog: -1.0000\n",
      "AP_/keyboard: -1.0000\n",
      "AP_/kite: 0.0202\n",
      "AP_/knife: 0.0000\n",
      "AP_/laptop: -1.0000\n",
      "AP_/microwave: 0.0000\n",
      "AP_/motorbike: 0.4622\n",
      "AP_/motorcycle: 0.1039\n",
      "AP_/mouse: -1.0000\n",
      "AP_/orange: -1.0000\n",
      "AP_/oven: 0.8000\n",
      "AP_/parking meter: -1.0000\n",
      "AP_/person: 0.3337\n",
      "AP_/pillar: 0.0000\n",
      "AP_/pizza: 0.3217\n",
      "AP_/pottedplant: 0.1347\n",
      "AP_/railing: 0.0000\n",
      "AP_/refrigerator: -1.0000\n",
      "AP_/remote: 0.0000\n",
      "AP_/rickshaw: 0.3105\n",
      "AP_/sandwich: -1.0000\n",
      "AP_/scissors: -1.0000\n",
      "AP_/sheep: 0.0785\n",
      "AP_/shelf: -1.0000\n",
      "AP_/sink: 0.1627\n",
      "AP_/skateboard: 0.0631\n",
      "AP_/skis: 0.0749\n",
      "AP_/snowboard: 0.0343\n",
      "AP_/sofa: 0.3098\n",
      "AP_/spoon: 0.0000\n",
      "AP_/sports ball: 0.0000\n",
      "AP_/stair: 0.0000\n",
      "AP_/stop sign: 0.2272\n",
      "AP_/suitcase: -1.0000\n",
      "AP_/surfboard: 0.0000\n",
      "AP_/table: -1.0000\n",
      "AP_/teddy bear: 0.0000\n",
      "AP_/tempu: -1.0000\n",
      "AP_/tennis racket: 0.3749\n",
      "AP_/tie: -1.0000\n",
      "AP_/toilet: 0.0000\n",
      "AP_/traffic light: 0.0095\n",
      "AP_/train: 0.0229\n",
      "AP_/tree: 0.0188\n",
      "AP_/truck: 0.0968\n",
      "AP_/tvmonitor: 0.6913\n",
      "AP_/umbrella: 0.2075\n",
      "AP_/van: -1.0000\n",
      "AP_/vase: 0.0000\n",
      "AP_/wine glass: -1.0000\n",
      "AP_/zebra: 0.8505\n"
     ]
    }
   ],
   "source": [
    "metrics = model.evaluate(val_data)\n",
    "\n",
    "print(\"\\nEvaluation Metrics:\")\n",
    "for k, v in metrics.items():\n",
    "    print(f\"{k}: {v:.4f}\")"
   ]
  },
  {
   "cell_type": "markdown",
   "id": "42f792b1-4c03-41c6-8645-21d5e315c7f5",
   "metadata": {},
   "source": [
    "# Model Quantization [Export TFLite (int8)]"
   ]
  },
  {
   "cell_type": "code",
   "execution_count": 27,
   "id": "d58b7300-7ca9-4035-bbbe-8a88ab3fb79f",
   "metadata": {},
   "outputs": [],
   "source": [
    "from tflite_model_maker.config import QuantizationConfig, ExportFormat\n",
    "\n",
    "# Use DataLoader directly\n",
    "representative_data = train_data\n",
    "\n",
    "quant_config = QuantizationConfig.for_int8(representative_data)\n",
    "\n",
    "# Export the quantized model\n",
    "model.export(\n",
    "    export_dir='.',\n",
    "    export_format=[ExportFormat.TFLITE],\n",
    "    quantization_config=quant_config\n",
    ")\n",
    "\n",
    "# Rename the output file\n",
    "os.rename(\"model.tflite\", \"EfficientDet_Lite1_detector_int8.tflite\")"
   ]
  }
 ],
 "metadata": {
  "kernelspec": {
   "display_name": "Python 3 (ipykernel)",
   "language": "python",
   "name": "python3"
  },
  "language_info": {
   "codemirror_mode": {
    "name": "ipython",
    "version": 3
   },
   "file_extension": ".py",
   "mimetype": "text/x-python",
   "name": "python",
   "nbconvert_exporter": "python",
   "pygments_lexer": "ipython3",
   "version": "3.9.11"
  }
 },
 "nbformat": 4,
 "nbformat_minor": 5
}
