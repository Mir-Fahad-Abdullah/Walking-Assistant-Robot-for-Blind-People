{
 "cells": [
  {
   "cell_type": "code",
   "execution_count": 3,
   "id": "8dfc9160-310c-4b96-8000-7d372ac71eb7",
   "metadata": {},
   "outputs": [
    {
     "name": "stdout",
     "output_type": "stream",
     "text": [
      "Collecting pascal-voc-writer\n",
      "  Downloading pascal_voc_writer-0.1.4-py2.py3-none-any.whl.metadata (1.3 kB)\n",
      "Requirement already satisfied: pycocotools in c:\\users\\fahad\\appdata\\local\\programs\\python\\python39\\lib\\site-packages (2.0.10)\n",
      "Requirement already satisfied: tqdm in c:\\users\\fahad\\appdata\\local\\programs\\python\\python39\\lib\\site-packages (4.67.1)\n",
      "Requirement already satisfied: jinja2 in c:\\users\\fahad\\appdata\\local\\programs\\python\\python39\\lib\\site-packages (from pascal-voc-writer) (3.1.6)\n",
      "Requirement already satisfied: numpy in c:\\users\\fahad\\appdata\\local\\programs\\python\\python39\\lib\\site-packages (from pycocotools) (1.23.5)\n",
      "Requirement already satisfied: colorama in c:\\users\\fahad\\appdata\\local\\programs\\python\\python39\\lib\\site-packages (from tqdm) (0.4.6)\n",
      "Requirement already satisfied: MarkupSafe>=2.0 in c:\\users\\fahad\\appdata\\local\\programs\\python\\python39\\lib\\site-packages (from jinja2->pascal-voc-writer) (3.0.2)\n",
      "Downloading pascal_voc_writer-0.1.4-py2.py3-none-any.whl (4.0 kB)\n",
      "Installing collected packages: pascal-voc-writer\n",
      "Successfully installed pascal-voc-writer-0.1.4\n",
      "Note: you may need to restart the kernel to use updated packages.\n"
     ]
    }
   ],
   "source": [
    "pip install pascal-voc-writer pycocotools tqdm"
   ]
  },
  {
   "cell_type": "code",
   "execution_count": 5,
   "id": "5ba00701-af32-47c1-a6bb-3942b7cbf626",
   "metadata": {},
   "outputs": [],
   "source": [
    "import os\n",
    "import json\n",
    "import xml.etree.ElementTree as ET\n",
    "from tqdm import tqdm\n",
    "\n",
    "def convert_voc_to_coco(voc_folder, output_json_path, label_list):\n",
    "    image_id = 0\n",
    "    ann_id = 0\n",
    "    coco = {\n",
    "        \"info\": {\n",
    "            \"description\": \"Dataset converted from Pascal VOC to COCO format\",\n",
    "            \"version\": \"1.0\"\n",
    "        },\n",
    "        \"images\": [],\n",
    "        \"annotations\": [],\n",
    "        \"categories\": []\n",
    "    }\n",
    "\n",
    "    label_map = {name: idx + 1 for idx, name in enumerate(label_list)}  # COCO uses category_id starting from 1\n",
    "\n",
    "    for label, idx in label_map.items():\n",
    "        coco[\"categories\"].append({\n",
    "            \"id\": idx,\n",
    "            \"name\": label,\n",
    "            \"supercategory\": \"object\"\n",
    "        })\n",
    "\n",
    "    for fname in tqdm(os.listdir(voc_folder)):\n",
    "        if not fname.endswith(\".xml\"):\n",
    "            continue\n",
    "        xml_path = os.path.join(voc_folder, fname)\n",
    "        tree = ET.parse(xml_path)\n",
    "        root = tree.getroot()\n",
    "\n",
    "        filename = root.find(\"filename\").text\n",
    "        size = root.find(\"size\")\n",
    "        width = int(size.find(\"width\").text)\n",
    "        height = int(size.find(\"height\").text)\n",
    "\n",
    "        coco[\"images\"].append({\n",
    "            \"id\": image_id,\n",
    "            \"file_name\": filename,\n",
    "            \"width\": width,\n",
    "            \"height\": height\n",
    "        })\n",
    "\n",
    "        for obj in root.findall(\"object\"):\n",
    "            label = obj.find(\"name\").text\n",
    "            if label not in label_map:\n",
    "                continue  # Skip unknown labels\n",
    "\n",
    "            bndbox = obj.find(\"bndbox\")\n",
    "            xmin = float(bndbox.find(\"xmin\").text)\n",
    "            ymin = float(bndbox.find(\"ymin\").text)\n",
    "            xmax = float(bndbox.find(\"xmax\").text)\n",
    "            ymax = float(bndbox.find(\"ymax\").text)\n",
    "            w = xmax - xmin\n",
    "            h = ymax - ymin\n",
    "\n",
    "            coco[\"annotations\"].append({\n",
    "                \"id\": ann_id,\n",
    "                \"image_id\": image_id,\n",
    "                \"category_id\": label_map[label],\n",
    "                \"bbox\": [xmin, ymin, w, h],\n",
    "                \"area\": w * h,\n",
    "                \"iscrowd\": 0\n",
    "            })\n",
    "            ann_id += 1\n",
    "        image_id += 1\n",
    "\n",
    "    with open(output_json_path, \"w\") as f:\n",
    "        json.dump(coco, f, indent=4)\n",
    "    print(f\"COCO annotation saved to: {output_json_path}\")"
   ]
  },
  {
   "cell_type": "code",
   "execution_count": 7,
   "id": "9055c353-2fd0-40a9-a62e-01b0adb29ef7",
   "metadata": {},
   "outputs": [],
   "source": [
    "import os\n",
    "import xml.etree.ElementTree as ET\n",
    "\n",
    "def extract_labels(directory):\n",
    "    labels = set()\n",
    "    for file in os.listdir(directory):\n",
    "        if file.endswith(\".xml\"):\n",
    "            tree = ET.parse(os.path.join(directory, file))\n",
    "            for obj in tree.findall(\"object\"):\n",
    "                labels.add(obj.find(\"name\").text)\n",
    "    return sorted(list(labels))\n"
   ]
  },
  {
   "cell_type": "code",
   "execution_count": 8,
   "id": "8a0bfbbd-fe87-4c94-afee-db47b68feda2",
   "metadata": {},
   "outputs": [
    {
     "name": "stderr",
     "output_type": "stream",
     "text": [
      "100%|██████████████████████████████████████████████████████████████████████████████| 820/820 [00:00<00:00, 1661.09it/s]\n"
     ]
    },
    {
     "name": "stdout",
     "output_type": "stream",
     "text": [
      "COCO annotation saved to: train_coco.json\n"
     ]
    },
    {
     "name": "stderr",
     "output_type": "stream",
     "text": [
      "100%|██████████████████████████████████████████████████████████████████████████████| 201/201 [00:00<00:00, 1615.37it/s]\n"
     ]
    },
    {
     "name": "stdout",
     "output_type": "stream",
     "text": [
      "COCO annotation saved to: valid_coco.json\n"
     ]
    }
   ],
   "source": [
    "train_dir = \"Object-detection-dataset/train\"\n",
    "valid_dir = \"Object-detection-dataset/valid\"\n",
    "\n",
    "# Step 1: Get all unique class names from train + val\n",
    "label_list = sorted(set(\n",
    "    extract_labels(train_dir) + extract_labels(valid_dir)\n",
    "))\n",
    "\n",
    "# Step 2: Convert to COCO JSON\n",
    "convert_voc_to_coco(train_dir, \"train_coco.json\", label_list)\n",
    "convert_voc_to_coco(valid_dir, \"valid_coco.json\", label_list)\n"
   ]
  }
 ],
 "metadata": {
  "kernelspec": {
   "display_name": "Python 3 (ipykernel)",
   "language": "python",
   "name": "python3"
  },
  "language_info": {
   "codemirror_mode": {
    "name": "ipython",
    "version": 3
   },
   "file_extension": ".py",
   "mimetype": "text/x-python",
   "name": "python",
   "nbconvert_exporter": "python",
   "pygments_lexer": "ipython3",
   "version": "3.9.11"
  }
 },
 "nbformat": 4,
 "nbformat_minor": 5
}
